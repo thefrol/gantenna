{
 "cells": [
  {
   "attachments": {},
   "cell_type": "markdown",
   "metadata": {},
   "source": [
    "\n",
    "Может быть можно в большой картинке отключать градиенты у части картинки и фокусироваться лишь на части, может быть это освободить скольок-то оперативки?\n",
    "\n",
    "\n",
    "negative generating - тема для статьи?\n",
    "\n",
    "сначала генерирование с держанием подальше от конкретных семантических оборотом\n",
    "\n",
    "потом просто бец цели, лишь указывая что нельзя рисовать. Не цель, но ограничения\n",
    "\n",
    "1. [ ] Надо нормализовать функцию потерь в зависимости от количества запросов"
   ]
  },
  {
   "cell_type": "code",
   "execution_count": 1,
   "metadata": {},
   "outputs": [
    {
     "ename": "SyntaxError",
     "evalue": "invalid syntax (261694274.py, line 3)",
     "output_type": "error",
     "traceback": [
      "\u001b[1;36m  Cell \u001b[1;32mIn[1], line 3\u001b[1;36m\u001b[0m\n\u001b[1;33m    1. noise to some parts of image\u001b[0m\n\u001b[1;37m       ^\u001b[0m\n\u001b[1;31mSyntaxError\u001b[0m\u001b[1;31m:\u001b[0m invalid syntax\n"
     ]
    }
   ],
   "source": [
    "#ideas\n",
    "\n",
    "1. noise to some parts of image\n",
    "2. helper texts with pattern: this is {}, a picture of  {}\n",
    "3. high quality, image"
   ]
  },
  {
   "cell_type": "code",
   "execution_count": null,
   "metadata": {},
   "outputs": [],
   "source": [
    "#%git clone https://github.com/CompVis/taming-transformers.git\n",
    "%pip install git+https://github.com/illeatmyhat/taming-transformers #a taming transformers version for pip install\n",
    "#pip install taming-transformers\n"
   ]
  },
  {
   "cell_type": "code",
   "execution_count": null,
   "metadata": {},
   "outputs": [],
   "source": [
    "%pip install ruclip, cython\n",
    "\n",
    "%pip install omegaconf\n",
    "%pip install pytorch_lightning\n",
    "%pip install einops\n",
    "%pip install gdown\n",
    "%pip install matplotlib"
   ]
  },
  {
   "cell_type": "code",
   "execution_count": 2,
   "metadata": {},
   "outputs": [
    {
     "data": {
      "application/vnd.jupyter.widget-view+json": {
       "model_id": "02cbc63162a7491382b77a5685809ffe",
       "version_major": 2,
       "version_minor": 0
      },
      "text/plain": [
       "Box(children=(Image(value=b''), VBox(children=(Label(value='---'), Label(value='---'), Label(value='---'), Lab…"
      ]
     },
     "metadata": {},
     "output_type": "display_data"
    }
   ],
   "source": [
    "\n",
    "\n",
    "import ipywidgets as widgets\n",
    "from IPython.display import display\n",
    "\n",
    "layout = widgets.Layout(display='flex',\n",
    "         flex_flow='row',\n",
    "         #border='solid',\n",
    "         width='50%')\n",
    "\n",
    "box_img=widgets.Box(layout=layout)\n",
    "\n",
    "target_text_label=widgets.Label('---')\n",
    "score_loss_label=widgets.Label('---')\n",
    "score_label=widgets.Label('---')\n",
    "quantize_label=widgets.Label('---')\n",
    "iter_label=widgets.Label('---')\n",
    "\n",
    "onflight_image=widgets.Image()\n",
    "\n",
    "box_scores=widgets.VBox([iter_label,target_text_label, score_label,score_loss_label,quantize_label])\n",
    "box=widgets.Box([onflight_image,box_scores,box_img])\n",
    "display(box)"
   ]
  },
  {
   "cell_type": "code",
   "execution_count": 3,
   "metadata": {},
   "outputs": [
    {
     "ename": "ModuleNotFoundError",
     "evalue": "No module named 'gantenna'",
     "output_type": "error",
     "traceback": [
      "\u001b[1;31m---------------------------------------------------------------------------\u001b[0m",
      "\u001b[1;31mModuleNotFoundError\u001b[0m                       Traceback (most recent call last)",
      "Cell \u001b[1;32mIn[3], line 1\u001b[0m\n\u001b[1;32m----> 1\u001b[0m \u001b[39mfrom\u001b[39;00m \u001b[39mgantenna\u001b[39;00m\u001b[39m.\u001b[39;00m\u001b[39mstyle_settings\u001b[39;00m \u001b[39mimport\u001b[39;00m StyleSettings\n\u001b[0;32m      2\u001b[0m \u001b[39m#style settings \u001b[39;00m\n\u001b[0;32m      3\u001b[0m style\u001b[39m=\u001b[39mStyleSettings()\n",
      "\u001b[1;31mModuleNotFoundError\u001b[0m: No module named 'gantenna'"
     ]
    }
   ],
   "source": [
    "from gantenna.style_settings import StyleSettings\n",
    "#style settings \n",
    "style=StyleSettings()\n",
    "style.like('панельки ночью')\n",
    "style.far_from('небо')\n",
    "\n",
    "learning_rate=0.01\n",
    "img_size=224\n",
    "noise_add_percent=0 # %\n",
    "verbose=False\n",
    "iterations=5000\n",
    "add_noise_every_iterations=1000\n",
    "\n",
    "score_threshold_to_reduce_lr=1.\n",
    "\n",
    "score_loss_weight=0.\n",
    "dist_loss_weight=1."
   ]
  },
  {
   "cell_type": "code",
   "execution_count": null,
   "metadata": {},
   "outputs": [],
   "source": [
    "#vqgan loading\n",
    "import sys\n",
    "#sys.path.append(\"./taming-transformers\") #workaround for bitch taming tranformers\n",
    "\n",
    "from pathlib import Path\n",
    "import gdown\n",
    "import os\n",
    "from omegaconf import OmegaConf\n",
    "import yaml\n",
    "from taming.models.vqgan import GumbelVQ\n",
    "import torch\n",
    "\n",
    "def download_vqgan(models_dir='models'):\n",
    "    models_folder= Path(models_dir)\n",
    "    model_path= models_folder / 'sber.gumbelf8.ckpt'\n",
    "    config_path= models_folder / 'vqgan.gumbelf8.config.yml'\n",
    "    if (model_path.exists() \n",
    "        and model_path.is_file()\n",
    "        and config_path.exists()\n",
    "        and config_path.is_file()):\n",
    "        #already downloaded\n",
    "        return model_path, config_path\n",
    "\n",
    "    url_template = 'https://drive.google.com/uc?id={}'\n",
    "   \n",
    "\n",
    "    os.makedirs(models_folder,exist_ok=True)\n",
    "\n",
    "    downloads=[\n",
    "        {\n",
    "        'id': '1M7RvSoiuKBwpF-98sScKng0lsZnwFebR',\n",
    "        'name': 'vqgan.gumbelf8.config.yml',\n",
    "        },\n",
    "        {\n",
    "        'id': '1WP6Li2Po8xYcQPGMpmaxIlI1yPB5lF5m',\n",
    "        'name': 'sber.gumbelf8.ckpt',\n",
    "        },\n",
    "    ]\n",
    "\n",
    "    for item in downloads:\n",
    "        out_name = os.path.join(models_folder, item['name'])\n",
    "        url = url_template.format(item['id'])\n",
    "        gdown.download(url, out_name)\n",
    "\n",
    "\n",
    "    return model_path, config_path\n",
    "\n",
    "def load_config(config_path, display=False):\n",
    "    config = OmegaConf.load(config_path)\n",
    "    if display:\n",
    "        print(yaml.dump(OmegaConf.to_container(config)))\n",
    "    return config\n",
    "\n",
    "def load_vqgan(models_dir='models') -> GumbelVQ:\n",
    "\n",
    "    model_path, config_path=download_vqgan(models_dir=models_dir)\n",
    "    DEVICE = torch.device(\"cuda:0\" if torch.cuda.is_available() else \"cpu\")\n",
    "\n",
    "    config=load_config(config_path=config_path)\n",
    "    model = GumbelVQ(**config.model.params)\n",
    "    if model_path is not None:\n",
    "        sd = torch.load(model_path, map_location=\"cpu\")[\"state_dict\"]\n",
    "        missing, unexpected = model.load_state_dict(sd, strict=False)\n",
    "    return model.eval().to(DEVICE)"
   ]
  },
  {
   "cell_type": "code",
   "execution_count": null,
   "metadata": {},
   "outputs": [],
   "source": [
    "import ruclip\n",
    "\n",
    "device = 'cuda'\n",
    "def load_ruclip(name='ruclip-vit-base-patch32-224',models_dir='models'):\n",
    "    DEVICE = torch.device(\"cuda:0\" if torch.cuda.is_available() else \"cpu\")\n",
    "    clip, processor = ruclip.load(name, device=DEVICE,cache_dir=models_dir)\n",
    "    return clip, processor"
   ]
  },
  {
   "cell_type": "code",
   "execution_count": null,
   "metadata": {},
   "outputs": [
    {
     "name": "stdout",
     "output_type": "stream",
     "text": [
      "Working with z of shape (1, 256, 32, 32) = 262144 dimensions.\n"
     ]
    }
   ],
   "source": [
    "vq=load_vqgan()\n",
    "clip,processor=load_ruclip()"
   ]
  },
  {
   "cell_type": "code",
   "execution_count": null,
   "metadata": {},
   "outputs": [],
   "source": [
    "class ReplaceGrad(torch.autograd.Function):\n",
    "    @staticmethod\n",
    "    def forward(ctx, x_forward, x_backward):\n",
    "        ctx.shape = x_backward.shape\n",
    "        return x_forward\n",
    " \n",
    "    @staticmethod\n",
    "    def backward(ctx, grad_in):\n",
    "        return None, grad_in.sum_to_size(ctx.shape)\n",
    " \n",
    " \n",
    "replace_grad = ReplaceGrad.apply"
   ]
  },
  {
   "cell_type": "code",
   "execution_count": null,
   "metadata": {},
   "outputs": [],
   "source": [
    "import torch\n",
    "import torch.nn.functional as F\n",
    "import torchvision.transforms as T\n",
    "import torchvision.transforms.functional as TF\n",
    "import PIL\n",
    "from PIL import Image\n",
    "\n",
    "import numpy as np\n",
    "\n",
    "\n",
    "\n",
    "def preprocess_vqgan(x):\n",
    "    x = 2.*x - 1.\n",
    "    return x\n",
    "\n",
    "def crop(img, target_image_size=256):\n",
    "    s = min(img.size)\n",
    "        \n",
    "    r = target_image_size / s\n",
    "    s = (round(r * img.size[1]), round(r * img.size[0]))\n",
    "    img = TF.resize(img, s, interpolation=PIL.Image.LANCZOS)\n",
    "    img = TF.center_crop(img, output_size=2 * [target_image_size])\n",
    "    return img\n",
    "\n",
    "def preprocess(img, target_image_size=256):\n",
    "    img=crop(img,target_image_size=target_image_size)\n",
    "    img = torch.unsqueeze(T.ToTensor()(img), 0)\n",
    "    img=preprocess_vqgan(img)\n",
    "    return img\n",
    "    \n",
    "def vqgan_postprocess(x):\n",
    "    x = x.detach().cpu()\n",
    "    x = torch.clamp(x, -1., 1.)\n",
    "    x = (x + 1.)/2.\n",
    "    x = x.permute(1,2,0).numpy()\n",
    "    x = (255*x).astype(np.uint8)\n",
    "    x = Image.fromarray(x)\n",
    "    if not x.mode == \"RGB\":\n",
    "        x = x.convert(\"RGB\")\n",
    "    return x\n",
    "\n",
    "def vqgan_postprocess_with_grad(x):\n",
    "    x = torch.clamp(x, -1., 1.)\n",
    "    x = (x + 1.)/2.\n",
    "    x = x.permute(1,2,0)\n",
    "    image=x.detach().cpu().numpy()\n",
    "    image=(255*image).astype(np.uint8)\n",
    "    x = (255*x)\n",
    "    image = Image.fromarray(image)\n",
    "    if not image.mode == \"RGB\":\n",
    "        image = image.convert(\"RGB\")\n",
    "    return x, image\n",
    "\n",
    "def reconstruct_with_vqgan(x, model):\n",
    "    with torch.no_grad():\n",
    "        z, _, [_, _, indices] = model.encode(x)\n",
    "        xrec = model.decode(z)\n",
    "    return xrec"
   ]
  },
  {
   "cell_type": "code",
   "execution_count": null,
   "metadata": {},
   "outputs": [],
   "source": [
    "#clamper\n",
    "import math\n",
    "\n",
    "def sinc(x):\n",
    "    return torch.where(x != 0, torch.sin(math.pi * x) / (math.pi * x), x.new_ones([]))\n",
    " \n",
    " \n",
    "def lanczos(x, a):\n",
    "    cond = torch.logical_and(-a < x, x < a)\n",
    "    out = torch.where(cond, sinc(x) * sinc(x/a), x.new_zeros([]))\n",
    "    return out / out.sum()\n",
    " \n",
    " \n",
    "def ramp(ratio, width):\n",
    "    n = math.ceil(width / ratio + 1)\n",
    "    out = torch.empty([n])\n",
    "    cur = 0\n",
    "    for i in range(out.shape[0]):\n",
    "        out[i] = cur\n",
    "        cur += ratio\n",
    "    return torch.cat([-out[1:].flip([0]), out])[1:-1]\n",
    " \n",
    " \n",
    "def resample(input, size, align_corners=True):\n",
    "    n, c, h, w = input.shape\n",
    "    dh, dw = size\n",
    " \n",
    "    input = input.view([n * c, 1, h, w])\n",
    " \n",
    "    if dh < h:\n",
    "        kernel_h = lanczos(ramp(dh / h, 2), 2).to(input.device, input.dtype)\n",
    "        pad_h = (kernel_h.shape[0] - 1) // 2\n",
    "        input = F.pad(input, (0, 0, pad_h, pad_h), 'reflect')\n",
    "        input = F.conv2d(input, kernel_h[None, None, :, None])\n",
    " \n",
    "    if dw < w:\n",
    "        kernel_w = lanczos(ramp(dw / w, 2), 2).to(input.device, input.dtype)\n",
    "        pad_w = (kernel_w.shape[0] - 1) // 2\n",
    "        input = F.pad(input, (pad_w, pad_w, 0, 0), 'reflect')\n",
    "        input = F.conv2d(input, kernel_w[None, None, None, :])\n",
    " \n",
    "    input = input.view([n, c, h, w])\n",
    "    return F.interpolate(input, size, mode='bicubic', align_corners=align_corners)\n",
    " \n",
    " \n",
    "class ReplaceGrad(torch.autograd.Function):\n",
    "    @staticmethod\n",
    "    def forward(ctx, x_forward, x_backward):\n",
    "        ctx.shape = x_backward.shape\n",
    "        return x_forward\n",
    " \n",
    "    @staticmethod\n",
    "    def backward(ctx, grad_in):\n",
    "        return None, grad_in.sum_to_size(ctx.shape)\n",
    " \n",
    " \n",
    "replace_grad = ReplaceGrad.apply\n",
    " \n",
    " \n",
    "class ClampWithGrad(torch.autograd.Function):\n",
    "    @staticmethod\n",
    "    def forward(ctx, input, min, max):\n",
    "        ctx.min = min\n",
    "        ctx.max = max\n",
    "        ctx.save_for_backward(input)\n",
    "        return input.clamp(min, max)\n",
    " \n",
    "    @staticmethod\n",
    "    def backward(ctx, grad_in):\n",
    "        input, = ctx.saved_tensors\n",
    "        return grad_in * (grad_in * (input - input.clamp(ctx.min, ctx.max)) >= 0), None, None\n",
    " \n",
    " \n",
    "clamp_with_grad = ClampWithGrad.apply"
   ]
  },
  {
   "cell_type": "code",
   "execution_count": null,
   "metadata": {},
   "outputs": [],
   "source": [
    "#check it works\n",
    "\n",
    "\n",
    "\n",
    "import requests\n",
    "import io\n",
    "\n",
    "DEVICE = torch.device(\"cuda:0\" if torch.cuda.is_available() else \"cpu\")\n",
    "\n",
    "def download_image(url):\n",
    "    resp = requests.get(url)\n",
    "    resp.raise_for_status()\n",
    "    return PIL.Image.open(io.BytesIO(resp.content))\n",
    "\n",
    "# img=download_image(img_url)\n",
    "# display(crop(img,target_image_size=256))\n",
    "\n",
    "# x=preprocess(img,target_image_size=256).to(DEVICE)\n",
    "# #x=map_pixels(x)\n",
    "# out1=reconstruct_with_vqgan(x,vq)[0] # returns array\n",
    "# #x=unmap_pixels(x)\n",
    "# out1=vqgan_postprocess(out1)\n",
    "\n",
    "\n",
    "# display(out1)"
   ]
  },
  {
   "cell_type": "code",
   "execution_count": null,
   "metadata": {},
   "outputs": [],
   "source": [
    "\n",
    "\n",
    "def add_noise(tensor, percent=1):\n",
    "        noise=torch.rand_like(tensor)\n",
    "        return tensor+percent*0.01*noise\n",
    "\n",
    "def add_white(tensor, percent=1):\n",
    "        white=torch.ones_like(tensor)\n",
    "        return tensor+percent*0.01*white\n",
    "\n",
    "def vector_quantize(h, vq:GumbelVQ):\n",
    "        #not works\n",
    "        h_c = vq.quant_conv(h)\n",
    "        quant, emb_loss, info = vq.quantize(h_c)\n",
    "        #quant.names=('Quant','a','b','c')\n",
    "        return quant #replace_grad(quant, h_c)\n",
    "\n",
    "codebook=vq.quantize.embed.weight\n",
    "def vector_quantize_kate(x, codebook):\n",
    "    d = x.pow(2).sum(dim=-1, keepdim=True) + codebook.pow(2).sum(dim=1) - 2 * x @ codebook.T\n",
    "    indices = d.argmin(-1)\n",
    "    x_q = F.one_hot(indices, codebook.shape[0]).to(d.dtype) @ codebook\n",
    "    return replace_grad(x_q, x)\n",
    "\n",
    "\n",
    "#img_url='https://img.gazeta.ru/files3/291/12697291/upload-RTX75B8J-pic905-895x505-4746.jpg'\n",
    "#img_url='https://7minutes.ru/wp-content/uploads/2017/06/Розовый-шум.jpg'\n",
    "#img=download_image(img_url)\n",
    "#img=crop(img,target_image_size=img_size)\n",
    "\n",
    "#take my z\n",
    "import torchvision\n",
    "\n",
    "normalize=torchvision.transforms.Normalize(mean=[0.48145466, 0.4578275, 0.40821073],\n",
    "                                    std=[0.26862954, 0.26130258, 0.27577711])\n",
    "\n",
    "z_min = vq.quantize.embed.weight.min(dim=0).values[None, :, None, None]\n",
    "z_max = vq.quantize.embed.weight.max(dim=0).values[None, :, None, None]\n",
    "\n",
    "with torch.no_grad():\n",
    "        #x=preprocess(img,target_image_size=img_size).to(DEVICE)\n",
    "        #print('max x',x.max())\n",
    "        #print('min x',x.min())\n",
    "        #x=x*0.0 - 1.\n",
    "        x=torch.zeros(size=(1,3,img_size,img_size)).to(DEVICE)\n",
    "        x=add_noise(x,50)\n",
    "        #x=add_white(x,100)\n",
    "        z, *_ = vq.encode(x)\n",
    "        del vq.encoder # free vram! ✊\n",
    "        #z=vq.encoder(x)\n",
    "z.requires_grad_(True)\n",
    "\n",
    "optimizer=torch.optim.Adam([z], lr=learning_rate)\n",
    "\n",
    "#xrec = vq.decode(z)\n",
    "#print('max xrec init',xrec.max())\n",
    "#print('min xrec init',xrec.min())\n",
    "\n",
    "#xrec=normalize(xrec)\n",
    "#img=vqgan_postprocess(xrec[0])\n",
    "#display(img)\n",
    "#get my text\n",
    "\n",
    "\n",
    "\n",
    "#make image\n",
    "\n",
    "\n",
    "\n",
    "# #print('clip image_size',clip.visual.input_resolution)\n",
    "# classes = ['дом в стиле брутализм', 'толпа', 'чет так', 'люди']\n",
    "# tolpa_logit=0\n",
    "# with torch.no_grad():\n",
    "#         text_tokens= processor(classes)\n",
    "#         text_features=clip.encode_text(text_tokens['input_ids'].to(DEVICE)).to(DEVICE)\n",
    "#         text_latents = text_features / text_features.norm(dim=-1, keepdim=True) # runs backward pass\n",
    "#torch.autograd.set_detect_anomaly(True)\n",
    "learning_rate_changed=False"
   ]
  },
  {
   "cell_type": "code",
   "execution_count": null,
   "metadata": {},
   "outputs": [],
   "source": [
    "  \n"
   ]
  },
  {
   "cell_type": "code",
   "execution_count": null,
   "metadata": {},
   "outputs": [],
   "source": []
  },
  {
   "cell_type": "code",
   "execution_count": null,
   "metadata": {},
   "outputs": [
    {
     "name": "stderr",
     "output_type": "stream",
     "text": [
      "c:\\Users\\cuda\\my_vq\\_local_env\\lib\\site-packages\\torch\\nn\\functional.py:3734: UserWarning: nn.functional.upsample is deprecated. Use nn.functional.interpolate instead.\n",
      "  warnings.warn(\"nn.functional.upsample is deprecated. Use nn.functional.interpolate instead.\")\n"
     ]
    },
    {
     "name": "stdout",
     "output_type": "stream",
     "text": [
      "noise added\n",
      "noise added\n",
      "noise added\n",
      "noise added\n"
     ]
    },
    {
     "data": {
      "image/png": "[encoded data removed]",
      "text/plain": [
       "<PIL.Image.Image image mode=RGB size=224x224>"
      ]
     },
     "metadata": {},
     "output_type": "display_data"
    }
   ],
   "source": [
    "\n",
    "rotate=T.RandomRotation(30)\n",
    "\n",
    "positive_prompts, negative_prompts = style.make_embeds(clip=clip, clip_processor=processor)\n",
    "\n",
    "dists_pos_plot=[]\n",
    "\n",
    "def encode_bs(clip, images:torch.Tensor, bs=1):\n",
    "        batches=images.split(1)\n",
    "        results=[clip.encode_image(batch) for batch in batches]\n",
    "        return torch.cat(results)\n",
    "\n",
    "# predict\n",
    "for i in range(1,iterations):\n",
    "        z_q=vector_quantize_kate(z.movedim(1,3),codebook=codebook).movedim(3,1)\n",
    "        xrec = vq.decode(z_q)\n",
    "\n",
    "        x_aug=(torch.cat(\n",
    "                T.FiveCrop(150)(xrec)#+ T.FiveCrop(100)(xrec)# packing list of five tensors\n",
    "                ))\n",
    "        x_aug=F.upsample(x_aug,(224,224))\n",
    "        x_aug=(torch.cat(\n",
    "                [xrec,x_aug]#+ T.FiveCrop(50)(xrec)# packing list of five tensors\n",
    "                ))     \n",
    "\n",
    "        x_aug=rotate(x_aug)\n",
    "\n",
    "        xrec_q=(x_aug+1.0)/2.\n",
    "        xrec_q=add_noise(xrec_q,percent=noise_add_percent)\n",
    "        xrec_q=clamp_with_grad(xrec_q,0,1)\n",
    "        xrec_q=normalize(xrec_q) #arter clamping!\n",
    "        #image_features=clip.encode_image(xrec_q).to(DEVICE)\n",
    "        image_features=encode_bs(clip, xrec_q)\n",
    "\n",
    "        image_features = image_features / image_features.norm(dim=-1, keepdim=True) # runs backward pass\n",
    "        image_latents=image_features\n",
    "\n",
    "        logit_scale=clip.logit_scale.exp()\n",
    "        logits_per_text = torch.matmul(positive_prompts.to(DEVICE), image_latents.t()) #* logit_scale\n",
    "\n",
    "        dist = image_features.sub(positive_prompts[0]).norm(dim=-1).div(2).arcsin().pow(2).mul(2)\n",
    "\n",
    "        #dists_positive =torch.cat([image_features.sub(prompt).norm(dim=-1).div(2).arcsin().pow(2).mul(2) for prompt in positive_prompts])        \n",
    "        #dists_negative =torch.cat([image_features.sub(prompt).norm(dim=-1).div(2).arcsin().pow(2).mul(2) for prompt in negative_prompts])\n",
    "\n",
    "        dists_positive =[image_features.sub(prompt).norm(dim=-1).div(2).arcsin().pow(2).mul(2) for prompt in positive_prompts]        \n",
    "        dists_negative =[image_features.sub(prompt).norm(dim=-1).div(2).arcsin().pow(2).mul(2) for prompt in negative_prompts]\n",
    "\n",
    "        #print('dists',dists)\n",
    "        #print('logits',logits_per_text)\n",
    "        tolpa_logit=logits_per_text[0]\n",
    "        #print(logits_per_text.grad_fn)\n",
    "        #print(tolpa_logit)\n",
    "        loss_clip=F.mse_loss(tolpa_logit,(torch.ones_like(tolpa_logit)*2.0).to(DEVICE)) # NOT 1.0 the values are like 15.0 -20.0 for good match\n",
    "        loss_dist=(\n",
    "                sum([F.mse_loss(dist, torch.zeros_like(dist).to(DEVICE)) for dist in dists_positive])\n",
    "                + sum([F.mse_loss(dist, (1*torch.ones_like(dist)).to(DEVICE)) for dist in dists_negative])\n",
    "                )\n",
    "        \n",
    "\n",
    "        # we need to get xrec less then 2 more close to 1,5\n",
    "        dark_pic= torch.zeros(size=xrec.shape).to(DEVICE)\n",
    "        #darkness_weight=0\n",
    "        #loss_bright=darkness_weight*F.mse_loss(xrec,dark_pic)\n",
    "\n",
    "        #full loss\n",
    "        loss=score_loss_weight*loss_clip + dist_loss_weight*loss_dist #+loss_bright\n",
    "        loss.backward(retain_graph=True)\n",
    "        #z_orig=z\n",
    "        optimizer.step()\n",
    "\n",
    "        with torch.no_grad():\n",
    "            z.copy_(z.maximum(z_min).minimum(z_max)) # took from kate crow\n",
    "                                                # starts faster\n",
    "                                                # more blurry\n",
    "                                                # more consistent?\n",
    "        #delta_z:torch.Tensor=z-z_orig\n",
    "        #print(delta_z.max())\n",
    "        #xrec = vq.decode(z)\n",
    "        \n",
    "\n",
    "        img=vqgan_postprocess(xrec[0])\n",
    "\n",
    "        del xrec  # free ram\n",
    "        import gc\n",
    "        gc.collect()\n",
    "        img_byte_arr = io.BytesIO()\n",
    "        img.save(img_byte_arr, format='PNG')\n",
    "        img_byte_arr = img_byte_arr.getvalue()\n",
    "        \n",
    "        if i%10==0:  \n",
    "                new_widget=widgets.Image(value=img_byte_arr)\n",
    "                box_img.children=tuple([new_widget]+list(box_img.children[:5]) )\n",
    "                #display(img)\n",
    "        onflight_image.value=img_byte_arr\n",
    "        target_text_label.value=f'+ {style.positive_prompts} \\n\\n - {style.negative_prompts}'\n",
    "        iter_label.value=f'iter #{i}'\n",
    "        score_label.value=f'score: {[logit.item() for logit in tolpa_logit]}'\n",
    "        score_loss_label.value=f'score loss: {loss_clip.item()}'\n",
    "        quantize_label.value=f'Learning rate {\"not\" if not learning_rate_changed else \"\"} changed'\n",
    "        \n",
    "        #somehow a lot of noise wors sooo goood!!!\n",
    "        if i%add_noise_every_iterations==0:\n",
    "                with torch.no_grad():\n",
    "                        #z_new:torch.Tensor=z+torch.randn_like(z)*1\n",
    "                        z.add_(torch.randn_like(z)*2)\n",
    "                        print('noise added')\n",
    "                        #add noise to z_q? every step\n",
    "                \n",
    "        \n",
    "\n",
    "        # with torch.no_grad():\n",
    "        #     z.copy_(z.maximum(z_min).minimum(z_max))\n",
    "        #xrec=normalize(xrec)\n",
    "        optimizer.zero_grad() # xrec wont grow that fast\n",
    "        \n",
    "\n",
    "#USE THIS\n",
    "# def forward(self, input):\n",
    "#         input_normed = F.normalize(input.unsqueeze(1), dim=2)\n",
    "#         embed_normed = F.normalize(self.embed.unsqueeze(0), dim=2)\n",
    "#         dists = input_normed.sub(embed_normed).norm(dim=2).div(2).arcsin().pow(2).mul(2)\n",
    "#         dists = dists * self.weight.sign()\n",
    "#         return self.weight.abs() * replace_grad(dists, torch.msaximum(dist, self.stop)).mean()\n",
    "\n",
    "\n",
    "xrec = vq.decode(z_q)\n",
    "img=vqgan_postprocess(xrec[0])\n",
    "display(img)\n",
    "\n",
    "del xrec # 2gb of vram lol"
   ]
  },
  {
   "cell_type": "code",
   "execution_count": null,
   "metadata": {},
   "outputs": [
    {
     "data": {
      "text/plain": [
       "torch.Size([6, 512])"
      ]
     },
     "execution_count": 14,
     "metadata": {},
     "output_type": "execute_result"
    }
   ],
   "source": [
    "image_features.shape"
   ]
  },
  {
   "cell_type": "code",
   "execution_count": null,
   "metadata": {},
   "outputs": [
    {
     "data": {
      "text/plain": [
       "torch.Size([1, 512])"
      ]
     },
     "execution_count": 15,
     "metadata": {},
     "output_type": "execute_result"
    }
   ],
   "source": [
    "negative_prompts.shape"
   ]
  },
  {
   "cell_type": "code",
   "execution_count": null,
   "metadata": {},
   "outputs": [],
   "source": [
    "dists = torch.cat([image_features.sub(prompt).norm(dim=-1).div(2).arcsin().pow(2).mul(2) for prompt in negative_prompts])"
   ]
  },
  {
   "cell_type": "code",
   "execution_count": null,
   "metadata": {},
   "outputs": [
    {
     "data": {
      "text/plain": [
       "torch.Size([6])"
      ]
     },
     "execution_count": 17,
     "metadata": {},
     "output_type": "execute_result"
    }
   ],
   "source": [
    "dists.shape"
   ]
  },
  {
   "cell_type": "code",
   "execution_count": null,
   "metadata": {},
   "outputs": [
    {
     "name": "stderr",
     "output_type": "stream",
     "text": [
      "C:\\Users\\cuda\\AppData\\Local\\Temp\\ipykernel_29224\\1775915048.py:1: UserWarning: To copy construct from a tensor, it is recommended to use sourceTensor.clone().detach() or sourceTensor.clone().detach().requires_grad_(True), rather than torch.tensor(sourceTensor).\n",
      "  loss=F.mse_loss(dists, torch.tensor(torch.zeros_like(dists)).to(DEVICE))\n"
     ]
    }
   ],
   "source": [
    "loss=F.mse_loss(dists, torch.tensor(torch.zeros_like(dists)).to(DEVICE))"
   ]
  },
  {
   "cell_type": "code",
   "execution_count": null,
   "metadata": {},
   "outputs": [],
   "source": [
    "loss.backward()"
   ]
  }
 ],
 "metadata": {
  "kernelspec": {
   "display_name": "_local_env",
   "language": "python",
   "name": "python3"
  },
  "language_info": {
   "codemirror_mode": {
    "name": "ipython",
    "version": 3
   },
   "file_extension": ".py",
   "mimetype": "text/x-python",
   "name": "python",
   "nbconvert_exporter": "python",
   "pygments_lexer": "ipython3",
   "version": "3.10.10"
  },
  "orig_nbformat": 4,
  "vscode": {
   "interpreter": {
    "hash": "9c443a669d8830a06852adf1e4049b94338523857524716b02eb82537fb512c9"
   }
  }
 },
 "nbformat": 4,
 "nbformat_minor": 2
}
